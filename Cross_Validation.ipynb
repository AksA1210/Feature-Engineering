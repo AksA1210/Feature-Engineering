{
  "nbformat": 4,
  "nbformat_minor": 0,
  "metadata": {
    "colab": {
      "provenance": []
    },
    "kernelspec": {
      "name": "python3",
      "display_name": "Python 3"
    },
    "language_info": {
      "name": "python"
    }
  },
  "cells": [
    {
      "cell_type": "code",
      "execution_count": null,
      "metadata": {
        "colab": {
          "base_uri": "https://localhost:8080/"
        },
        "id": "lPQ7tBfooIrU",
        "outputId": "2cfa9698-3015-4734-f74d-1e2f151ee134"
      },
      "outputs": [
        {
          "output_type": "stream",
          "name": "stdout",
          "text": [
            "MAE :  3.146154808346972\n",
            "RMSE :  4.284373111711817\n"
          ]
        }
      ],
      "source": [
        "# Loading the necessary libraries\n",
        "\n",
        "from sklearn.model_selection import train_test_split\n",
        "from sklearn.model_selection import KFold\n",
        "from sklearn.model_selection import cross_val_score\n",
        "from sklearn.linear_model import LinearRegression\n",
        "from numpy import mean\n",
        "from numpy import absolute\n",
        "from numpy import sqrt\n",
        "import pandas as pd\n",
        "\n",
        "# Creating the data\n",
        "\n",
        "df = pd.DataFrame({'y': [6, 8, 12, 14, 14, 15, 17, 22, 24, 23],\n",
        "                   'x1': [2, 5, 4, 3, 4, 6, 7, 5, 8, 9],\n",
        "                   'x2': [14, 12, 12, 13, 7, 8, 7, 4, 6, 5]})\n",
        "\n",
        "# Perform K-fold cross validation\n",
        "# define predictor and response variables\n",
        "X = df[['x1', 'x2']]\n",
        "y = df['y']\n",
        "\n",
        "#define cross-validation method to use\n",
        "cv = KFold(n_splits=10, random_state=1, shuffle=True)\n",
        "\n",
        "#build multiple linear regression model\n",
        "model = LinearRegression()\n",
        "\n",
        "#use k-fold CV to evaluate model\n",
        "scores = cross_val_score(model, X, y, scoring='neg_mean_absolute_error',\n",
        "                         cv=cv, n_jobs=-1)\n",
        "\n",
        "#view mean absolute error\n",
        "MAE = mean(absolute(scores))\n",
        "print(\"MAE : \",MAE)\n",
        "# MAE : In general, the lower the MAE, the more closely a model is able to predict the actual observations.\n",
        "\n",
        "# LOOCV :  configuration of k-fold cross-validation where k is set to the number of examples in the dataset.\n",
        "# extreme version of k-fold cross-validation that has the maximum computational cost. It requires one model to be created and evaluated for each example in the training dataset.\n",
        "# Usually applied on small datasets\n",
        "#use LOOCV to evaluate model\n",
        "#define cross-validation method to use\n",
        "cv = KFold(n_splits=5, random_state=1, shuffle=True)\n",
        "scores = cross_val_score(model, X, y, scoring='neg_mean_squared_error',\n",
        "                         cv=cv, n_jobs=-1)\n",
        "\n",
        "#view RMSE\n",
        "RMSE=sqrt(mean(absolute(scores)))\n",
        "print(\"RMSE : \",RMSE)\n",
        "# The lower the RMSE, the more closely a model is able to predict the actual observations."
      ]
    },
    {
      "cell_type": "code",
      "source": [
        "from numpy import mean\n",
        "from numpy import std\n",
        "from sklearn.datasets import make_classification\n",
        "from sklearn.model_selection import KFold\n",
        "from sklearn.model_selection import cross_val_score\n",
        "from sklearn.linear_model import LogisticRegression\n",
        "# create dataset\n",
        "X, y = make_classification(n_samples=100, n_features=20, n_informative=15, n_redundant=5, random_state=1)\n",
        "# prepare the cross-validation procedure\n",
        "cv = KFold(n_splits=10, random_state=1, shuffle=True)\n",
        "# create model\n",
        "model = LogisticRegression()\n",
        "# evaluate model\n",
        "scores = cross_val_score(model, X, y, scoring='accuracy', cv=cv, n_jobs=-1)\n",
        "# report performance\n",
        "print('Accuracy: %.3f (%.3f)' % (mean(scores), std(scores)))"
      ],
      "metadata": {
        "id": "heWjz15loNqy",
        "colab": {
          "base_uri": "https://localhost:8080/"
        },
        "outputId": "b851517c-8056-4e5a-e22a-e96e131a7e6b"
      },
      "execution_count": 1,
      "outputs": [
        {
          "output_type": "stream",
          "name": "stdout",
          "text": [
            "Accuracy: 0.850 (0.128)\n"
          ]
        }
      ]
    },
    {
      "cell_type": "code",
      "source": [
        "# K-Fold Cross-Validation is a popular technique in machine learning to estimate the performance of a model. It involves dividing the dataset into ‘k’ subsets (folds),
         and then training and evaluating the model ‘k’ times.\n",
        "# Each time, one fold is used as the test set, and the remaining ‘k-1’ folds are used as the training set. The average performance across the ‘k’ runs is then used as the overall 
          performance estimate.\n",
        "\n",
        "\n",
        "from numpy import mean\n",
        "from sklearn.datasets import make_classification\n",
        "from sklearn.model_selection import LeaveOneOut\n",
        "from sklearn.model_selection import KFold\n",
        "from sklearn.model_selection import cross_val_score\n",
        "from sklearn.linear_model import LogisticRegression\n",
        "from matplotlib import pyplot\n",
        "\n",
        "# create the dataset\n",
        "def get_dataset(n_samples=100):\n",
        " X, y = make_classification(n_samples=n_samples, n_features=20, n_informative=15, n_redundant=5, random_state=1)\n",
        " return X, y\n",
        "\n",
        "# retrieve the model to be evaluate\n",
        "def get_model():\n",
        " model = LogisticRegression()\n",
        " return model\n",
        "\n",
        "# evaluate the model using a given test condition\n",
        "def evaluate_model(cv):\n",
        " # get the dataset\n",
        " X, y = get_dataset()\n",
        " # get the model\n",
        " model = get_model()\n",
        " # evaluate the model\n",
        " scores = cross_val_score(model, X, y, scoring='accuracy', cv=cv, n_jobs=-1)\n",
        " # return scores\n",
        " return mean(scores), scores.min(), scores.max()\n",
        "\n",
        "# calculate the ideal test condition\n",
        "ideal, _, _ = evaluate_model(LeaveOneOut())\n",
        "print('Ideal: %.3f' % ideal)\n",
        "# define folds to test\n",
        "folds = range(2,31)\n",
        "# record mean and min/max of each set of results\n",
        "means, mins, maxs = list(),list(),list()\n",
        "# evaluate each k value\n",
        "for k in folds:\n",
        " # define the test condition\n",
        " cv = KFold(n_splits=k, shuffle=True, random_state=1)\n",
        " # evaluate k value\n",
        " k_mean, k_min, k_max = evaluate_model(cv)\n",
        " # report performance\n",
        " print('> folds=%d, accuracy=%.3f (%.3f,%.3f)' % (k, k_mean, k_min, k_max))\n",
        " # store mean accuracy\n",
        " means.append(k_mean)\n",
        " # store min and max relative to the mean\n",
        " mins.append(k_mean - k_min)\n",
        " maxs.append(k_max - k_mean)\n",
        "# line plot of k mean values with min/max error bars\n",
        "pyplot.errorbar(folds, means, yerr=[mins, maxs], fmt='o')\n",
        "# plot the ideal case in a separate color\n",
        "pyplot.plot(folds, [ideal for _ in range(len(folds))], color='r')\n",
        "# show the plot\n",
        "pyplot.show()"
      ],
      "metadata": {
        "colab": {
          "base_uri": "https://localhost:8080/",
          "height": 951
        },
        "id": "uNMMEpbXixJg",
        "outputId": "77f9cbcd-2aac-4889-d2fa-199dc98230f3"
      },
      "execution_count": 2,
      "outputs": [
        {
          "output_type": "stream",
          "name": "stdout",
          "text": [
            "Ideal: 0.840\n",
            "> folds=2, accuracy=0.740 (0.700,0.780)\n",
            "> folds=3, accuracy=0.749 (0.697,0.824)\n",
            "> folds=4, accuracy=0.790 (0.640,0.920)\n",
            "> folds=5, accuracy=0.810 (0.600,0.950)\n",
            "> folds=6, accuracy=0.820 (0.688,0.941)\n",
            "> folds=7, accuracy=0.799 (0.571,1.000)\n",
            "> folds=8, accuracy=0.811 (0.385,0.923)\n",
            "> folds=9, accuracy=0.829 (0.636,1.000)\n",
            "> folds=10, accuracy=0.850 (0.600,1.000)\n",
            "> folds=11, accuracy=0.829 (0.667,1.000)\n",
            "> folds=12, accuracy=0.785 (0.250,1.000)\n",
            "> folds=13, accuracy=0.839 (0.571,1.000)\n",
            "> folds=14, accuracy=0.807 (0.429,1.000)\n",
            "> folds=15, accuracy=0.821 (0.571,1.000)\n",
            "> folds=16, accuracy=0.827 (0.500,1.000)\n",
            "> folds=17, accuracy=0.816 (0.600,1.000)\n",
            "> folds=18, accuracy=0.831 (0.600,1.000)\n",
            "> folds=19, accuracy=0.826 (0.600,1.000)\n",
            "> folds=20, accuracy=0.830 (0.600,1.000)\n",
            "> folds=21, accuracy=0.814 (0.500,1.000)\n",
            "> folds=22, accuracy=0.820 (0.500,1.000)\n",
            "> folds=23, accuracy=0.802 (0.250,1.000)\n",
            "> folds=24, accuracy=0.804 (0.250,1.000)\n",
            "> folds=25, accuracy=0.810 (0.250,1.000)\n",
            "> folds=26, accuracy=0.804 (0.250,1.000)\n",
            "> folds=27, accuracy=0.818 (0.250,1.000)\n",
            "> folds=28, accuracy=0.821 (0.250,1.000)\n",
            "> folds=29, accuracy=0.822 (0.250,1.000)\n",
            "> folds=30, accuracy=0.822 (0.333,1.000)\n"
          ]
        },
        {
          "output_type": "display_data",
          "data": {
            "text/plain": [
              "<Figure size 640x480 with 1 Axes>"
            ],
            "image/png": "[encoded data removed]"
          },
          "metadata": {}
        }
      ]
    }
  ]
}
