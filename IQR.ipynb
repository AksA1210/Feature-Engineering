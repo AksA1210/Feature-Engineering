{
  "nbformat": 4,
  "nbformat_minor": 0,
  "metadata": {
    "colab": {
      "provenance": []
    },
    "kernelspec": {
      "name": "python3",
      "display_name": "Python 3"
    },
    "language_info": {
      "name": "python"
    }
  },
  "cells": [
    {
      "cell_type": "code",
      "execution_count": 10,
      "metadata": {
        "colab": {
          "base_uri": "https://localhost:8080/"
        },
        "id": "_9f1RpcW39Ul",
        "outputId": "a78bd078-cba9-46fb-d325-ec9a2d7b0d9a"
      },
      "outputs": [
        {
          "output_type": "stream",
          "name": "stdout",
          "text": [
            "[10, 11, 14, 15, 16, 23, 24, 25, 26, 28, 31, 32, 42, 48, 52, 62, 64, 72, 93, 96]\n",
            "Q1 =  19.5\n",
            "Q3 =  57.0\n",
            "IQR =  37.5\n"
          ]
        }
      ],
      "source": [
        "import numpy as np\n",
        "\n",
        "\n",
        "\n",
        "data = [23, 24, 26, 15, 31, 42, 10, 11, 14, 16, 25, 48, 64, 93, 96, 72,\n",
        "\n",
        "        62, 52, 32, 28]\n",
        "\n",
        "data.sort()\n",
        "print(data)\n",
        "# First quartile (Q1)\n",
        "\n",
        "Q1 = np.median(data[:10])\n",
        "print(\"Q1 = \",Q1)\n",
        "\n",
        "# Third quartile (Q3)\n",
        "\n",
        "Q3 = np.median(data[10:])\n",
        "print(\"Q3 = \",Q3)\n",
        "\n",
        "# Interquartile range (IQR)\n",
        "\n",
        "IQR = Q3 - Q1\n",
        "\n",
        "print(\"IQR = \",IQR)"
      ]
    }
  ]
}