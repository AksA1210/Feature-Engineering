{
  "nbformat": 4,
  "nbformat_minor": 0,
  "metadata": {
    "colab": {
      "provenance": []
    },
    "kernelspec": {
      "name": "python3",
      "display_name": "Python 3"
    },
    "language_info": {
      "name": "python"
    }
  },
  "cells": [
    {
      "cell_type": "code",
      "execution_count": 26,
      "metadata": {
        "colab": {
          "base_uri": "https://localhost:8080/"
        },
        "id": "_9f1RpcW39Ul",
        "outputId": "8f5d3d75-8c82-4cd5-831f-f3e072dd4ae2"
      },
      "outputs": [
        {
          "output_type": "stream",
          "name": "stdout",
          "text": [
            "[10, 11, 14, 15, 16, 23, 24, 25, 26, 28, 31, 32, 42, 48, 52, 62, 64, 72, 93, 96]\n",
            "Q1 =  19.5\n",
            "Q3 =  57.0\n",
            "IQR =  37.5\n",
            "Upper fence =  113.25\n",
            "Lower fence =  -36.75\n",
            "Outliers are :  []\n"
          ]
        }
      ],
      "source": [
        "import numpy as np\n",
        "\n",
        "data = [23, 24, 26, 15, 31, 42, 10, 11, 14, 16, 25, 48, 64, 93, 96, 72,\n",
        "\n",
        "        62, 52, 32, 28]\n",
        "\n",
        "data.sort()\n",
        "print(data)\n",
        "# First quartile (Q1)\n",
        "\n",
        "Q1 = np.median(data[:10])\n",
        "print(\"Q1 = \",Q1)\n",
        "\n",
        "# Third quartile (Q3)\n",
        "\n",
        "Q3 = np.median(data[10:])\n",
        "print(\"Q3 = \",Q3)\n",
        "\n",
        "# Interquartile range (IQR)\n",
        "\n",
        "IQR = Q3 - Q1\n",
        "\n",
        "print(\"IQR = \",IQR)\n",
        "\n",
        "# Upper Fence - calculation\n",
        "upperfence = Q3 + (1.5*IQR)\n",
        "print(\"Upper fence = \",upperfence)\n",
        "# Lower Fence - calculation\n",
        "lowerfence = Q1 - (1.5*IQR)\n",
        "print(\"Lower fence = \",lowerfence)\n",
        "\n",
        "# Outliers\n",
        "outlier = []\n",
        "for i in data:\n",
        "  if i<=lowerfence and i>=upperfence :\n",
        "    outlier.append(i)\n",
        "print(\"Outliers are : \",outlier)\n"
      ]
    },
    {
      "cell_type": "markdown",
      "source": [
        "Why only 1.5 times the IQR? Why not any other number?\n",
        "\n",
        "Well, as you might have guessed, the number (here 1.5, hereinafter scale) clearly controls the sensitivity of the range and hence the decision rule. A bigger scale would make the outlier(s) to be considered as data point(s) while a smaller one would make some of the data point(s) to be perceived as outlier(s). And we’re quite sure, none of these cases is desirable."
      ],
      "metadata": {
        "id": "oXt5MQUbIEDE"
      }
    }
  ]
}